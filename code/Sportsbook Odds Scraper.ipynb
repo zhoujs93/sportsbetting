{
 "cells": [
  {
   "cell_type": "code",
   "execution_count": 11,
   "metadata": {
    "collapsed": true
   },
   "outputs": [],
   "source": [
    "from bs4 import BeautifulSoup\n",
    "import numpy as np\n",
    "import pandas as pd\n",
    "from functools import reduce\n",
    "import urllib"
   ]
  },
  {
   "cell_type": "code",
   "execution_count": 13,
   "metadata": {
    "collapsed": true
   },
   "outputs": [],
   "source": [
    "url = 'https://classic.sportsbookreview.com/betting-odds/nba-basketball/?date=20171011'"
   ]
  },
  {
   "cell_type": "code",
   "execution_count": 14,
   "metadata": {},
   "outputs": [],
   "source": [
    "r = urllib.urlopen(url).read()\n",
    "soup = BeautifulSoup(r, 'html.parser')\n",
    "table = soup.find(\"table\")"
   ]
  },
  {
   "cell_type": "code",
   "execution_count": 15,
   "metadata": {
    "collapsed": true
   },
   "outputs": [],
   "source": [
    "table"
   ]
  },
  {
   "cell_type": "code",
   "execution_count": 5,
   "metadata": {},
   "outputs": [],
   "source": [
    "def Scrap(url):  \n",
    "    tags = ['Location','Opp','W/L','Tm_score','Opp_score',\n",
    "            'FG1','FGA1','FG%1','3P1','3PA1','3P%1','FT1','FTA1','FT%1',\n",
    "            'ORB1','TRB1','AST1','STL1','BLK1','TOV1','PF1',\n",
    "            'FG2','FGA2','FG%2','3P2','3PA2','3P%2','FT2','FTA2','FT%2',\n",
    "            'ORB2','TRB2','AST2','STL2','BLK2','TOV2','PF2']\n",
    "    \n",
    "    r = urllib.request.urlopen(url).read()\n",
    "    soup = BeautifulSoup(r, 'html.parser')\n",
    "    table = soup.find(\"table\")\n",
    "\n",
    "    table_body = table.find('tbody')\n",
    "    rows = table_body.find_all('tr') \n",
    "\n",
    "    frame = []\n",
    "    datetemp = []\n",
    "    tmp = 0\n",
    "    for row in rows:\n",
    "        \n",
    "        temp = []\n",
    "        line = row.get_text().strip().split()\n",
    "        tag  = row.find_all(\"td\")\n",
    "        line = [v.get_text().strip().replace(\",\", \"\") for v in tag]\n",
    "\n",
    "        try:\n",
    "            datetemp.append(line[1])\n",
    "        \n",
    "            for i in range(2,5):\n",
    "                temp.append(line[i])\n",
    "        except:\n",
    "            continue\n",
    "        for i in range(5,len(line)):\n",
    "            try:\n",
    "                temp.append(float(line[i]))\n",
    "            except:\n",
    "                continue\n",
    "            \n",
    "        temp = np.array(temp)\n",
    "        temp = np.resize(temp,(1,37))\n",
    "    \n",
    "        if temp[0][0] != 0:\n",
    "            frame.append(temp[0])\n",
    "        tmp += 1\n",
    "    frame = pd.DataFrame(frame, columns = tags,index = datetemp)\n",
    "    return frame"
   ]
  }
 ],
 "metadata": {
  "kernelspec": {
   "display_name": "Python 2",
   "language": "python",
   "name": "python2"
  },
  "language_info": {
   "codemirror_mode": {
    "name": "ipython",
    "version": 2
   },
   "file_extension": ".py",
   "mimetype": "text/x-python",
   "name": "python",
   "nbconvert_exporter": "python",
   "pygments_lexer": "ipython2",
   "version": "2.7.13"
  }
 },
 "nbformat": 4,
 "nbformat_minor": 2
}
